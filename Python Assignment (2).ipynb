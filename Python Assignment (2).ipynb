{
  "nbformat": 4,
  "nbformat_minor": 0,
  "metadata": {
    "colab": {
      "provenance": []
    },
    "kernelspec": {
      "name": "python3",
      "display_name": "Python 3"
    },
    "language_info": {
      "name": "python"
    }
  },
  "cells": [
    {
      "cell_type": "markdown",
      "source": [
        "#PYTHON-BASICS"
      ],
      "metadata": {
        "id": "6lwIWRRnatcW"
      }
    },
    {
      "cell_type": "markdown",
      "source": [
        "Q1-What is Python, and why is it popular?\n",
        "\n",
        "- Python was designed by Guido van Rossum, a Dutch programmer, in the late 1980s. He released the first version in 1991.Python is a high-level, interpreted programming language known for its simplicity and readability. It supports multiple programming paradigms, including procedural, object-oriented, and functional programming.\n",
        "\n",
        "Its popularity stems from:\n",
        "\n",
        "- Ease of use: Simple syntax, making it beginner-friendly.\n",
        "- Versatility: Used in web development, data science, artificial intelligence, - automation, and more.\n",
        "- Large community: Extensive libraries and frameworks.\n",
        "- Cross-platform compatibility: Works on multiple operating systems.\n",
        "\n",
        "Q2-What is an interpreter in Python?\n",
        "\n",
        "- An interpreter in Python is a program that executes Python code directly, line by line, rather than compiling it into machine language beforehand. It reads the source code, translates it into an intermediate form, and runs it simultaneously.\n",
        "\n",
        "Q3-What are pre-defined keywords in Python?\n",
        "\n",
        "- Predefined words that holds a speacial meaning and have specific puporse. Some of the pre-defined keywords are - if, elif, import, etc.\n",
        "\n",
        "Q4-Can keywords be used as variable names?\n",
        "\n",
        "- No, keywords cannot be used as variable names in Python. Keywords are reserved words that have special meanings and purposes in the Python programming language. Using them as variable names would cause syntax errors because Python would misinterpret the intended functionality of the keyword.\n",
        "\n",
        "Q5-What is mutability in Python?\n",
        "\n",
        "- Objects/ Container whose state or value can be changed after they are created are called as mutable objects. Mutability means Changeability. List is a type of Mutable object.\n",
        "\n",
        "Q6-Why are lists mutable, but tuples are immutable?\n",
        "\n",
        "- Lists are mutable because they are designed for dynamic operations like adding, removing, or modifying elements, making them flexible for use cases that require frequent changes.\n",
        "\n",
        "- Tuples are immutable to provide a lightweight, hashable, and stable data structure, suitable for fixed collections of items and ensuring data integrity when used as keys in dictionaries or elements in sets.\n",
        "\n",
        "Q7-What is the difference between “==” and “is” operators in Python?\n",
        "\n",
        "- == (Equality Operator)\n",
        "\n",
        "- Compares values of two objects to check if they are equal.\n",
        "\n",
        "- Can return True even if the objects are stored at different memory locations.\n",
        "\n",
        "- is (Identity Operator)\n",
        "\n",
        "- Compares the memory addresses (identity) of two objects to check if they are the same object.\n",
        "\n",
        "- Returns True only if both variables point to the exact same object in memory.\n",
        "\n",
        "- Key Difference\n",
        "\n",
        "- == checks value equality.\n",
        "\n",
        "- is checks object identity.\n",
        "\n",
        "Q8-What are logical operators in Python?\n",
        "\n",
        "- Logical operators in Python are used to combine or modify boolean expressions and return a boolean value (True or False). Python provides three logical operators:\n",
        "- and (Logical AND) Returns True if both operands are True. Short-circuits: Stops evaluating as soon as it encounters a False.\n",
        "- or (Logical OR) Returns True if at least one operand is True. Short-circuits: Stops evaluating as soon as it encounters a True.\n",
        "- not (Logical NOT) Returns the opposite boolean value of the operand. It is a unary operator, meaning it works on a single operand.\n",
        "\n",
        "Q9-What is type casting in Python?\n",
        "\n",
        "- The Process of changing the data type of a value. (Type Conversion)\n",
        "- There are two varities of typecasting in python namely-\n",
        "- Implicit Typecasting\n",
        "- Explicit Typecasting\n",
        "\n",
        "Q10-What is the difference between implicit and explicit type casting?\n",
        "\n",
        "- The difference between implicit and explicit type casting lies in who performs the conversion and how it occurs:\n",
        "- Implicit Type Casting Performed by Python automatically. Happens when Python converts one data type to another without user intervention. Ensures no loss of data or precision. Typically occurs in numeric operations (e.g., combining int and float).\n",
        "\n",
        "- Explicit Type Casting Performed manually by the programmer. Achieved using Python’s built-in functions like int(), float(), str(), etc. Used when you need to forcefully convert a data type. Can lead to data loss if not used carefully.\n",
        "\n",
        "Q11-What is the purpose of conditional statements in Python?\n",
        "\n",
        "- The purpose of conditional statements in Python is to enable decision-making in a program. They allow the program to execute specific blocks of code based on whether a condition (or set of conditions) evaluates to True or False. This helps in controlling the program's flow dynamically.\n",
        "\n",
        "- Key Uses of Conditional Statements\n",
        "\n",
        "- Decision Making: Execute different code paths based on conditions.\n",
        "Control Flow: Change the flow of execution based on dynamic inputs or logic.\n",
        "Validation: Check and enforce conditions before performing actions.\n",
        "Types of Conditional Statements in Python\n",
        "\n",
        "if Statement\n",
        "if-else\n",
        "if-elif-else\n",
        "nested if-else\n",
        "\n",
        "Q12-How does the elif statement work?\n",
        "\n",
        "- The elif statement in Python is used for multiple conditional checks. It stands for \"else if\" and allows you to test several conditions in sequence. When the program encounters an elif, it evaluates the condition associated with it, and if the condition is True, it executes the block of code under that elif.\n",
        "\n",
        "- If the condition is False, the program moves to the next elif or else statement, (if any).\n",
        "\n",
        "Q13-What is the difference between for and while loops?\n",
        "\n",
        "- The key difference between for and while loops in Python lies in their structure and use cases:\n",
        "- for Loop Purpose: The for loop is used to iterate over a sequence (like a list, tuple, string, or range) for a specific number of times.\n",
        "- When to use: When you know the number of iterations in advance or you are iterating over a collection (like a list or range).\n",
        "- Control: The loop automatically handles the iteration, and you don't need to manually update the loop variable.\n",
        "- while Loop Purpose: The while loop continues executing as long as the given condition is True.\n",
        "- When to use: When you don't know beforehand how many iterations are needed and you want the loop to run until a condition is met.\n",
        "- Control: You need to manually update the condition within the loop to prevent an infinite loop.\n",
        "\n",
        "Q14-Describe a scenario where a while loop is more suitable than a for loop.\n",
        "\n",
        "- A while loop is more suitable than a for loop when the number of iterations is not known in advance and the loop should continue as long as a certain condition is true.\n",
        "- Imagine you're building a program that prompts the user to enter a valid password. You don't know how many attempts the user will need, so you need the loop to continue until the user enters a valid password.\n",
        "\n",
        "- password = \"secret123\" user_input = \"\"\n",
        "\n",
        "- while user_input != password: user_input = input(\"Enter your password: \") if user_input != password: print(\"Invalid password, try again.\") print(\"Password accepted!\")\n",
        "\n",
        "- Explanation: The while loop continues to ask for the password until the user enters the correct one.\n",
        "\n",
        "- The condition (user_input != password) is checked each time, and the loop keeps running until the condition becomes False (i.e., the user enters the correct password).\n",
        "\n",
        "- The number of iterations is not predefined, making the while loop the ideal choice for this scenario.\n",
        "\n",
        "- Why a for loop wouldn't be suitable: A for loop is typically used when you know the number of iterations in advance, such as iterating over a list or range. In this case, since we don't know how many times the user will attempt to enter the password, a for loop isn't ideal unless you explicitly set a fixed number of attempts."
      ],
      "metadata": {
        "id": "jMKOU1KOP55r"
      }
    },
    {
      "cell_type": "markdown",
      "source": [
        "#PYTHON-BASICS-PRACTICAL"
      ],
      "metadata": {
        "id": "F6fMYbtpa5wW"
      }
    },
    {
      "cell_type": "code",
      "source": [
        "# Write a Python program to print \"Hello, World\"\n",
        "print(\"Hello, World\")"
      ],
      "metadata": {
        "id": "NE6HRkCpE5G6",
        "colab": {
          "base_uri": "https://localhost:8080/"
        },
        "outputId": "2f939760-155f-4864-a864-e12fa023ee52"
      },
      "execution_count": null,
      "outputs": [
        {
          "output_type": "stream",
          "name": "stdout",
          "text": [
            "Hello, World\n"
          ]
        }
      ]
    },
    {
      "cell_type": "code",
      "source": [
        "# Write a Python program that displays your name and age\n",
        "name= \"ANUJ SHARMA\"\n",
        "age= 25\n",
        "print(\"My Name is\", name)\n",
        "print(\"My age is\", age)"
      ],
      "metadata": {
        "id": "cbYH6oGUKM3r"
      },
      "execution_count": null,
      "outputs": []
    },
    {
      "cell_type": "code",
      "source": [
        "# Write code to print all the pre-defined keywords in Python using the keyword library\n",
        "help(\"keywords\")"
      ],
      "metadata": {
        "colab": {
          "base_uri": "https://localhost:8080/"
        },
        "id": "etAC113rLKC_",
        "outputId": "a3c5da26-3a88-472b-b94a-124e278b983a"
      },
      "execution_count": null,
      "outputs": [
        {
          "output_type": "stream",
          "name": "stdout",
          "text": [
            "\n",
            "Here is a list of the Python keywords.  Enter any keyword to get more help.\n",
            "\n",
            "False               class               from                or\n",
            "None                continue            global              pass\n",
            "True                def                 if                  raise\n",
            "and                 del                 import              return\n",
            "as                  elif                in                  try\n",
            "assert              else                is                  while\n",
            "async               except              lambda              with\n",
            "await               finally             nonlocal            yield\n",
            "break               for                 not                 \n",
            "\n"
          ]
        }
      ]
    },
    {
      "cell_type": "code",
      "source": [
        "# Write a program that checks if a given word is a Python keyword\n",
        "import keyword\n",
        "word = input(\"Enter a word: \")\n",
        "if keyword.iskeyword(word):\n",
        "    print(f\"{word} is a Python keyword.\")\n",
        "else:\n",
        "    print(f\"{word} is not a Python keyword.\")"
      ],
      "metadata": {
        "colab": {
          "base_uri": "https://localhost:8080/"
        },
        "id": "Q7WkPzqeMhbz",
        "outputId": "5beafc7a-e04e-4f22-825e-89138d25be6c"
      },
      "execution_count": null,
      "outputs": [
        {
          "output_type": "stream",
          "name": "stdout",
          "text": [
            "Enter a word: class\n",
            "class is a Python keyword.\n"
          ]
        }
      ]
    },
    {
      "cell_type": "code",
      "source": [
        "#  Create a list and tuple in Python, and demonstrate how attempting to change an element works differently for each\n",
        "list_ = ['Apple','Mango','Banana']\n",
        "tuple_ = ('Apple','Mango','Banana')\n",
        "list_[0] = 'Grapes'\n",
        "print(list_)\n",
        "tuple_[0] = 'Grapes'\n",
        "print(tuple_)"
      ],
      "metadata": {
        "id": "dUrOfZslOMJZ",
        "colab": {
          "base_uri": "https://localhost:8080/",
          "height": 211
        },
        "outputId": "d250f6ca-a0af-4c7e-f3d0-6f7ad63ec354"
      },
      "execution_count": null,
      "outputs": [
        {
          "output_type": "stream",
          "name": "stdout",
          "text": [
            "['Grapes', 'Mango', 'Banana']\n"
          ]
        },
        {
          "output_type": "error",
          "ename": "TypeError",
          "evalue": "'tuple' object does not support item assignment",
          "traceback": [
            "\u001b[0;31m---------------------------------------------------------------------------\u001b[0m",
            "\u001b[0;31mTypeError\u001b[0m                                 Traceback (most recent call last)",
            "\u001b[0;32m<ipython-input-3-6279b2f8e529>\u001b[0m in \u001b[0;36m<cell line: 6>\u001b[0;34m()\u001b[0m\n\u001b[1;32m      4\u001b[0m \u001b[0mlist_\u001b[0m\u001b[0;34m[\u001b[0m\u001b[0;36m0\u001b[0m\u001b[0;34m]\u001b[0m \u001b[0;34m=\u001b[0m \u001b[0;34m'Grapes'\u001b[0m\u001b[0;34m\u001b[0m\u001b[0;34m\u001b[0m\u001b[0m\n\u001b[1;32m      5\u001b[0m \u001b[0mprint\u001b[0m\u001b[0;34m(\u001b[0m\u001b[0mlist_\u001b[0m\u001b[0;34m)\u001b[0m\u001b[0;34m\u001b[0m\u001b[0;34m\u001b[0m\u001b[0m\n\u001b[0;32m----> 6\u001b[0;31m \u001b[0mtuple_\u001b[0m\u001b[0;34m[\u001b[0m\u001b[0;36m0\u001b[0m\u001b[0;34m]\u001b[0m \u001b[0;34m=\u001b[0m \u001b[0;34m'Grapes'\u001b[0m\u001b[0;34m\u001b[0m\u001b[0;34m\u001b[0m\u001b[0m\n\u001b[0m\u001b[1;32m      7\u001b[0m \u001b[0mprint\u001b[0m\u001b[0;34m(\u001b[0m\u001b[0mtuple_\u001b[0m\u001b[0;34m)\u001b[0m\u001b[0;34m\u001b[0m\u001b[0;34m\u001b[0m\u001b[0m\n",
            "\u001b[0;31mTypeError\u001b[0m: 'tuple' object does not support item assignment"
          ]
        }
      ]
    },
    {
      "cell_type": "code",
      "source": [
        "# Write a function to demonstrate the behavior of mutable and immutable arguments.\n",
        "def modify_immutable(num):\n",
        "    num += 1\n",
        "    print(f\"Inside function: num = {num}\")\n",
        "\n",
        "def modify_mutable(my_list):\n",
        "    my_list.append(4)\n",
        "    print(f\"Inside function: my_list = {my_list}\")\n",
        "\n",
        "original_num = 5\n",
        "print(f\"Before function call: original_num = {original_num}\")\n",
        "modify_immutable(original_num)\n",
        "print(f\"After function call: original_num = {original_num}\")\n",
        "\n",
        "my_list = [1, 2, 3]\n",
        "print(f\"Before function call: my_list = {my_list}\")\n",
        "modify_mutable(my_list)\n",
        "print(f\"After function call: my_list = {my_list}\")"
      ],
      "metadata": {
        "colab": {
          "base_uri": "https://localhost:8080/"
        },
        "id": "J-Ze0tmQMSvg",
        "outputId": "bd6a5b97-fd6a-4c1c-c631-bab066961692"
      },
      "execution_count": null,
      "outputs": [
        {
          "output_type": "stream",
          "name": "stdout",
          "text": [
            "Before function call: original_num = 5\n",
            "Inside function: num = 6\n",
            "After function call: original_num = 5\n",
            "Before function call: my_list = [1, 2, 3]\n",
            "Inside function: my_list = [1, 2, 3, 4]\n",
            "After function call: my_list = [1, 2, 3, 4]\n"
          ]
        }
      ]
    },
    {
      "cell_type": "code",
      "source": [
        "# Write a function to demonstrate the behavior of mutable and immutable arguments.\n",
        "def modify_immutable(num):\n",
        "    num += 1\n",
        "    print(f\"Inside function: num = {num}\")\n",
        "\n",
        "def modify_mutable(my_list):\n",
        "    my_list.append(4)\n",
        "    print(f\"Inside function: my_list = {my_list}\")\n",
        "\n",
        "original_num = 5\n",
        "print(f\"Before function call: original_num = {original_num}\")\n",
        "modify_immutable(original_num)\n",
        "print(f\"After function call: original_num = {original_num}\")\n",
        "\n",
        "my_list = [1, 2, 3]\n",
        "print(f\"Before function call: my_list = {my_list}\")\n",
        "modify_mutable(my_list)\n",
        "print(f\"After function call: my_list = {my_list}\")"
      ],
      "metadata": {
        "colab": {
          "base_uri": "https://localhost:8080/"
        },
        "id": "QJvmn5BWTu-d",
        "outputId": "03256fc5-ddd3-4ded-8a6e-f5b3b352e35f"
      },
      "execution_count": null,
      "outputs": [
        {
          "output_type": "stream",
          "name": "stdout",
          "text": [
            "Before function call: original_num = 5\n",
            "Inside function: num = 6\n",
            "After function call: original_num = 5\n",
            "Before function call: my_list = [1, 2, 3]\n",
            "Inside function: my_list = [1, 2, 3, 4]\n",
            "After function call: my_list = [1, 2, 3, 4]\n"
          ]
        }
      ]
    },
    {
      "cell_type": "code",
      "source": [
        "# Write a program to demonstrate the use of logical operators.\n",
        "a = True\n",
        "b = False\n",
        "print(\"AND Operator\")\n",
        "print(f\"{a and b}\") #Output is False because one of them is False.\n",
        "print(f\"{a and a}\") #Output will be True only when both of them are True\n",
        "print(\"\")\n",
        "print(\"OR Operator\")\n",
        "print(f\"{a or b}\") #Output is True because one of them is True.\n",
        "print(f\"{b or b}\") #Output will be False only when both of them are False.\n",
        "print(\"\")\n",
        "print(\"NOT Operator\")\n",
        "print(f\"{not a}\") #Output is False because a is True.\n",
        "print(f\"{not b}\") #Output is True because b is False."
      ],
      "metadata": {
        "colab": {
          "base_uri": "https://localhost:8080/"
        },
        "id": "L4I55UK8T37w",
        "outputId": "d8339496-2190-47d9-bd93-c3089511ed9f"
      },
      "execution_count": null,
      "outputs": [
        {
          "output_type": "stream",
          "name": "stdout",
          "text": [
            "AND Operator\n",
            "False\n",
            "True\n",
            "\n",
            "OR Operator\n",
            "True\n",
            "False\n",
            "\n",
            "NOT Operator\n",
            "False\n",
            "True\n"
          ]
        }
      ]
    },
    {
      "cell_type": "code",
      "source": [
        "# Write a Python program to convert user input from string to integer, float, and boolean types.\n",
        "a= input(\"Enter a string to change it's type\")\n",
        "b= input(\"Select type - Integer Float Boolean\")\n",
        "if b==\"Integer\":\n",
        "  print(int(a))\n",
        "elif b==\"Float\":\n",
        "  print(float(a))\n",
        "elif b==\"Boolean\":\n",
        "  print(bool(a))\n",
        "else:\n",
        "  print(\"Invalid Input\")"
      ],
      "metadata": {
        "colab": {
          "base_uri": "https://localhost:8080/",
          "height": 356
        },
        "id": "VS4a4F4xUBCn",
        "outputId": "72c40975-37ac-49c5-8f5f-b7b50d37899b"
      },
      "execution_count": null,
      "outputs": [
        {
          "output_type": "error",
          "ename": "KeyboardInterrupt",
          "evalue": "Interrupted by user",
          "traceback": [
            "\u001b[0;31m---------------------------------------------------------------------------\u001b[0m",
            "\u001b[0;31mKeyboardInterrupt\u001b[0m                         Traceback (most recent call last)",
            "\u001b[0;32m<ipython-input-15-4be5541212e9>\u001b[0m in \u001b[0;36m<cell line: 2>\u001b[0;34m()\u001b[0m\n\u001b[1;32m      1\u001b[0m \u001b[0;31m# Write a Python program to convert user input from string to integer, float, and boolean types.\u001b[0m\u001b[0;34m\u001b[0m\u001b[0;34m\u001b[0m\u001b[0m\n\u001b[0;32m----> 2\u001b[0;31m \u001b[0ma\u001b[0m\u001b[0;34m=\u001b[0m \u001b[0minput\u001b[0m\u001b[0;34m(\u001b[0m\u001b[0;34m\"Enter a string to change it's type\"\u001b[0m\u001b[0;34m)\u001b[0m\u001b[0;34m\u001b[0m\u001b[0;34m\u001b[0m\u001b[0m\n\u001b[0m\u001b[1;32m      3\u001b[0m \u001b[0mb\u001b[0m\u001b[0;34m=\u001b[0m \u001b[0minput\u001b[0m\u001b[0;34m(\u001b[0m\u001b[0;34m\"Select type - Integer Float Boolean\"\u001b[0m\u001b[0;34m)\u001b[0m\u001b[0;34m\u001b[0m\u001b[0;34m\u001b[0m\u001b[0m\n\u001b[1;32m      4\u001b[0m \u001b[0;32mif\u001b[0m \u001b[0mb\u001b[0m\u001b[0;34m==\u001b[0m\u001b[0;34m\"Integer\"\u001b[0m\u001b[0;34m:\u001b[0m\u001b[0;34m\u001b[0m\u001b[0;34m\u001b[0m\u001b[0m\n\u001b[1;32m      5\u001b[0m   \u001b[0mprint\u001b[0m\u001b[0;34m(\u001b[0m\u001b[0mint\u001b[0m\u001b[0;34m(\u001b[0m\u001b[0ma\u001b[0m\u001b[0;34m)\u001b[0m\u001b[0;34m)\u001b[0m\u001b[0;34m\u001b[0m\u001b[0;34m\u001b[0m\u001b[0m\n",
            "\u001b[0;32m/usr/local/lib/python3.10/dist-packages/ipykernel/kernelbase.py\u001b[0m in \u001b[0;36mraw_input\u001b[0;34m(self, prompt)\u001b[0m\n\u001b[1;32m    849\u001b[0m                 \u001b[0;34m\"raw_input was called, but this frontend does not support input requests.\"\u001b[0m\u001b[0;34m\u001b[0m\u001b[0;34m\u001b[0m\u001b[0m\n\u001b[1;32m    850\u001b[0m             )\n\u001b[0;32m--> 851\u001b[0;31m         return self._input_request(str(prompt),\n\u001b[0m\u001b[1;32m    852\u001b[0m             \u001b[0mself\u001b[0m\u001b[0;34m.\u001b[0m\u001b[0m_parent_ident\u001b[0m\u001b[0;34m,\u001b[0m\u001b[0;34m\u001b[0m\u001b[0;34m\u001b[0m\u001b[0m\n\u001b[1;32m    853\u001b[0m             \u001b[0mself\u001b[0m\u001b[0;34m.\u001b[0m\u001b[0m_parent_header\u001b[0m\u001b[0;34m,\u001b[0m\u001b[0;34m\u001b[0m\u001b[0;34m\u001b[0m\u001b[0m\n",
            "\u001b[0;32m/usr/local/lib/python3.10/dist-packages/ipykernel/kernelbase.py\u001b[0m in \u001b[0;36m_input_request\u001b[0;34m(self, prompt, ident, parent, password)\u001b[0m\n\u001b[1;32m    893\u001b[0m             \u001b[0;32mexcept\u001b[0m \u001b[0mKeyboardInterrupt\u001b[0m\u001b[0;34m:\u001b[0m\u001b[0;34m\u001b[0m\u001b[0;34m\u001b[0m\u001b[0m\n\u001b[1;32m    894\u001b[0m                 \u001b[0;31m# re-raise KeyboardInterrupt, to truncate traceback\u001b[0m\u001b[0;34m\u001b[0m\u001b[0;34m\u001b[0m\u001b[0m\n\u001b[0;32m--> 895\u001b[0;31m                 \u001b[0;32mraise\u001b[0m \u001b[0mKeyboardInterrupt\u001b[0m\u001b[0;34m(\u001b[0m\u001b[0;34m\"Interrupted by user\"\u001b[0m\u001b[0;34m)\u001b[0m \u001b[0;32mfrom\u001b[0m \u001b[0;32mNone\u001b[0m\u001b[0;34m\u001b[0m\u001b[0;34m\u001b[0m\u001b[0m\n\u001b[0m\u001b[1;32m    896\u001b[0m             \u001b[0;32mexcept\u001b[0m \u001b[0mException\u001b[0m \u001b[0;32mas\u001b[0m \u001b[0me\u001b[0m\u001b[0;34m:\u001b[0m\u001b[0;34m\u001b[0m\u001b[0;34m\u001b[0m\u001b[0m\n\u001b[1;32m    897\u001b[0m                 \u001b[0mself\u001b[0m\u001b[0;34m.\u001b[0m\u001b[0mlog\u001b[0m\u001b[0;34m.\u001b[0m\u001b[0mwarning\u001b[0m\u001b[0;34m(\u001b[0m\u001b[0;34m\"Invalid Message:\"\u001b[0m\u001b[0;34m,\u001b[0m \u001b[0mexc_info\u001b[0m\u001b[0;34m=\u001b[0m\u001b[0;32mTrue\u001b[0m\u001b[0;34m)\u001b[0m\u001b[0;34m\u001b[0m\u001b[0;34m\u001b[0m\u001b[0m\n",
            "\u001b[0;31mKeyboardInterrupt\u001b[0m: Interrupted by user"
          ]
        }
      ]
    },
    {
      "cell_type": "code",
      "source": [
        "# Write code to demonstrate type casting with list elements.\n",
        "my_list = [\"10\", \"20\", \"30\", \"40\"]\n",
        "\n",
        "# Casting each element to integer\n",
        "int_list = [int(x) for x in (my_list)]\n",
        "\n",
        "print(\"Original list:\", my_list)\n",
        "print(\"List after type casting to integers:\", int_list)"
      ],
      "metadata": {
        "colab": {
          "base_uri": "https://localhost:8080/"
        },
        "id": "ZknQIQ9eUIow",
        "outputId": "554a8212-50c1-4982-a32f-02303b1961a2"
      },
      "execution_count": null,
      "outputs": [
        {
          "output_type": "stream",
          "name": "stdout",
          "text": [
            "Original list: ['10', '20', '30', '40']\n",
            "List after type casting to integers: [10, 20, 30, 40]\n"
          ]
        }
      ]
    },
    {
      "cell_type": "code",
      "source": [
        "# Write a program that checks if a number is positive, negative, or zero.\n",
        "a= int(input(\"Enter a number\"))\n",
        "if a>0:\n",
        "  print(\"The number is positive\")\n",
        "elif a<0:\n",
        "  print(\"The number is negative\")\n",
        "else:\n",
        "  print(\"The number is zero\")"
      ],
      "metadata": {
        "colab": {
          "base_uri": "https://localhost:8080/"
        },
        "id": "zKVtY4jpUTEV",
        "outputId": "fc61496a-c1c5-4e09-ad06-1d950a58e0ed"
      },
      "execution_count": null,
      "outputs": [
        {
          "output_type": "stream",
          "name": "stdout",
          "text": [
            "Enter a number1\n",
            "The number is positive\n"
          ]
        }
      ]
    },
    {
      "cell_type": "code",
      "source": [
        "# prompt: Write a for loop to print numbers from 1 to 10.\n",
        "for i in range(1,11):\n",
        "  print(i)"
      ],
      "metadata": {
        "colab": {
          "base_uri": "https://localhost:8080/"
        },
        "id": "-2PM9G9mUg1e",
        "outputId": "031a4cc3-3c60-4a36-d2dd-24568a4a3408"
      },
      "execution_count": null,
      "outputs": [
        {
          "output_type": "stream",
          "name": "stdout",
          "text": [
            "1\n",
            "2\n",
            "3\n",
            "4\n",
            "5\n",
            "6\n",
            "7\n",
            "8\n",
            "9\n",
            "10\n"
          ]
        }
      ]
    },
    {
      "cell_type": "code",
      "source": [
        "# Write a Python program to find the sum of all even numbers between 1 and 50.\n",
        "a = 0\n",
        "for i in range(0, 51):\n",
        "  if i%2==0:\n",
        "    a += i\n",
        "    print(a)\n",
        "print(\"The Sum of even numbers from 1 to 50 is\",a)"
      ],
      "metadata": {
        "colab": {
          "base_uri": "https://localhost:8080/"
        },
        "id": "-HeHbmkZUtkU",
        "outputId": "d0edab2f-27cd-4ddd-d18c-e93b64597aad"
      },
      "execution_count": null,
      "outputs": [
        {
          "output_type": "stream",
          "name": "stdout",
          "text": [
            "0\n",
            "2\n",
            "6\n",
            "12\n",
            "20\n",
            "30\n",
            "42\n",
            "56\n",
            "72\n",
            "90\n",
            "110\n",
            "132\n",
            "156\n",
            "182\n",
            "210\n",
            "240\n",
            "272\n",
            "306\n",
            "342\n",
            "380\n",
            "420\n",
            "462\n",
            "506\n",
            "552\n",
            "600\n",
            "650\n",
            "The Sum of even numbers from 1 to 50 is 650\n"
          ]
        }
      ]
    },
    {
      "cell_type": "code",
      "source": [
        "# Write a program to reverse a string using a while loop?\n",
        "a = (\"Ajay\")\n",
        "while len(a) > 0:\n",
        "  print(a[-1])\n",
        "  a = a[:-1]"
      ],
      "metadata": {
        "colab": {
          "base_uri": "https://localhost:8080/"
        },
        "id": "I0gb3c70VD2f",
        "outputId": "dfe66c61-4d8d-45e6-8a83-948c57bbbd29"
      },
      "execution_count": null,
      "outputs": [
        {
          "output_type": "stream",
          "name": "stdout",
          "text": [
            "y\n",
            "a\n",
            "j\n",
            "A\n"
          ]
        }
      ]
    },
    {
      "cell_type": "code",
      "source": [
        "# Write a Python program to calculate the factorial of a number provided by the user using a while loop.\n",
        "a = int(input(\"Enter a number\"))\n",
        "b = 1\n",
        "while a > 0:\n",
        "  b *= a\n",
        "  a -= 1\n",
        "print(b)"
      ],
      "metadata": {
        "colab": {
          "base_uri": "https://localhost:8080/"
        },
        "id": "CRY35FajVMuZ",
        "outputId": "48337283-c09e-460f-c424-f94200679f13"
      },
      "execution_count": null,
      "outputs": [
        {
          "output_type": "stream",
          "name": "stdout",
          "text": [
            "Enter a number9\n",
            "362880\n"
          ]
        }
      ]
    },
    {
      "cell_type": "code",
      "source": [],
      "metadata": {
        "id": "HcOQIqS2Vaun"
      },
      "execution_count": null,
      "outputs": []
    }
  ]
}